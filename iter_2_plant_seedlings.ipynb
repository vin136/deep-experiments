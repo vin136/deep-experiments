{
 "cells": [
  {
   "cell_type": "code",
   "execution_count": 35,
   "metadata": {},
   "outputs": [
    {
     "data": {
      "text/plain": [
       "'/home/vinay/fastai/courses/dl1'"
      ]
     },
     "execution_count": 35,
     "metadata": {},
     "output_type": "execute_result"
    }
   ],
   "source": [
    "%pwd"
   ]
  },
  {
   "cell_type": "code",
   "execution_count": 1,
   "metadata": {},
   "outputs": [],
   "source": [
    "PATH = '/home/vinay/fastai/data/plant_seedlings/'"
   ]
  },
  {
   "cell_type": "code",
   "execution_count": 2,
   "metadata": {},
   "outputs": [],
   "source": [
    "# Put these at the top of every notebook, to get automatic reloading and inline plotting\n",
    "%reload_ext autoreload\n",
    "%autoreload 2\n",
    "%matplotlib inline"
   ]
  },
  {
   "cell_type": "code",
   "execution_count": 3,
   "metadata": {},
   "outputs": [],
   "source": [
    "# This file contains all the main external libs we'll use\n",
    "from fastai.imports import *\n",
    "\n",
    "from fastai.transforms import *\n",
    "from fastai.conv_learner import *\n",
    "from fastai.model import *\n",
    "from fastai.dataset import *\n",
    "from fastai.sgdr import *\n",
    "from fastai.plots import *\n",
    "\n",
    "\n",
    "sz=299\n",
    "arch=resnext50\n",
    "bs=20"
   ]
  },
  {
   "cell_type": "code",
   "execution_count": 4,
   "metadata": {},
   "outputs": [
    {
     "data": {
      "text/plain": [
       "True"
      ]
     },
     "execution_count": 4,
     "metadata": {},
     "output_type": "execute_result"
    }
   ],
   "source": [
    "import os,shutil\n",
    "torch.cuda.is_available()"
   ]
  },
  {
   "cell_type": "code",
   "execution_count": 5,
   "metadata": {},
   "outputs": [],
   "source": [
    "os.mkdir(f'{PATH}valid')"
   ]
  },
  {
   "cell_type": "code",
   "execution_count": 5,
   "metadata": {},
   "outputs": [],
   "source": [
    "valid_dir = os.path.join(PATH,'valid')"
   ]
  },
  {
   "cell_type": "code",
   "execution_count": 7,
   "metadata": {},
   "outputs": [
    {
     "data": {
      "text/plain": [
       "'/home/vinay/fastai/data/plant_seedlings/valid'"
      ]
     },
     "execution_count": 7,
     "metadata": {},
     "output_type": "execute_result"
    }
   ],
   "source": [
    "valid_dir"
   ]
  },
  {
   "cell_type": "code",
   "execution_count": 6,
   "metadata": {},
   "outputs": [
    {
     "data": {
      "text/html": [
       "<div>\n",
       "<style scoped>\n",
       "    .dataframe tbody tr th:only-of-type {\n",
       "        vertical-align: middle;\n",
       "    }\n",
       "\n",
       "    .dataframe tbody tr th {\n",
       "        vertical-align: top;\n",
       "    }\n",
       "\n",
       "    .dataframe thead th {\n",
       "        text-align: right;\n",
       "    }\n",
       "</style>\n",
       "<table border=\"1\" class=\"dataframe\">\n",
       "  <thead>\n",
       "    <tr style=\"text-align: right;\">\n",
       "      <th></th>\n",
       "      <th>file</th>\n",
       "      <th>species</th>\n",
       "    </tr>\n",
       "  </thead>\n",
       "  <tbody>\n",
       "    <tr>\n",
       "      <th>789</th>\n",
       "      <td>fea355851.png</td>\n",
       "      <td>Sugar beet</td>\n",
       "    </tr>\n",
       "    <tr>\n",
       "      <th>790</th>\n",
       "      <td>fea3da57c.png</td>\n",
       "      <td>Sugar beet</td>\n",
       "    </tr>\n",
       "    <tr>\n",
       "      <th>791</th>\n",
       "      <td>fef2ade8c.png</td>\n",
       "      <td>Sugar beet</td>\n",
       "    </tr>\n",
       "    <tr>\n",
       "      <th>792</th>\n",
       "      <td>ff65bc002.png</td>\n",
       "      <td>Sugar beet</td>\n",
       "    </tr>\n",
       "    <tr>\n",
       "      <th>793</th>\n",
       "      <td>ffc6f8527.png</td>\n",
       "      <td>Sugar beet</td>\n",
       "    </tr>\n",
       "  </tbody>\n",
       "</table>\n",
       "</div>"
      ],
      "text/plain": [
       "              file     species\n",
       "789  fea355851.png  Sugar beet\n",
       "790  fea3da57c.png  Sugar beet\n",
       "791  fef2ade8c.png  Sugar beet\n",
       "792  ff65bc002.png  Sugar beet\n",
       "793  ffc6f8527.png  Sugar beet"
      ]
     },
     "execution_count": 6,
     "metadata": {},
     "output_type": "execute_result"
    }
   ],
   "source": [
    "subm = pd.read_csv(f'{PATH}sample_submission.csv')\n",
    "subm.tail()"
   ]
  },
  {
   "cell_type": "code",
   "execution_count": 44,
   "metadata": {},
   "outputs": [
    {
     "data": {
      "text/plain": [
       "{'Sugar beet'}"
      ]
     },
     "execution_count": 44,
     "metadata": {},
     "output_type": "execute_result"
    }
   ],
   "source": [
    "set(list(subm['species']))"
   ]
  },
  {
   "cell_type": "code",
   "execution_count": 7,
   "metadata": {},
   "outputs": [
    {
     "name": "stdout",
     "output_type": "stream",
     "text": [
      "212 images of Black-grass\n",
      "339 images of Charlock\n",
      "236 images of Cleavers\n",
      "560 images of Common Chickweed\n",
      "170 images of Common wheat\n",
      "424 images of Fat Hen\n",
      "603 images of Loose Silky-bent\n",
      "170 images of Maize\n",
      "465 images of Scentless Mayweed\n",
      "180 images of Shepherds Purse\n",
      "445 images of Small-flowered Cranesbill\n",
      "334 images of Sugar beet\n"
     ]
    }
   ],
   "source": [
    "train_dir = os.path.join(PATH,'train')\n",
    "# different species in the data set\n",
    "species = ['Black-grass', 'Charlock', 'Cleavers', 'Common Chickweed', 'Common wheat',\n",
    "           'Fat Hen', 'Loose Silky-bent', 'Maize', 'Scentless Mayweed',\n",
    "           'Shepherds Purse', 'Small-flowered Cranesbill', 'Sugar beet']\n",
    "num_species = len(species)\n",
    "\n",
    "# print number of images of each species in the training data\n",
    "for sp in species:\n",
    "    print('{} images of {}'.format(len(os.listdir(os.path.join(train_dir, sp))),sp))"
   ]
  },
  {
   "cell_type": "code",
   "execution_count": 10,
   "metadata": {},
   "outputs": [],
   "source": [
    "for i in species:\n",
    "    clas = os.path.join(valid_dir,i)\n",
    "    os.mkdir(clas)"
   ]
  },
  {
   "cell_type": "code",
   "execution_count": 23,
   "metadata": {},
   "outputs": [],
   "source": [
    "# This file contains all the main external libs we'll use\n"
   ]
  },
  {
   "cell_type": "code",
   "execution_count": 8,
   "metadata": {},
   "outputs": [],
   "source": [
    "tfms = tfms_from_model(arch, sz, aug_tfms=transforms_side_on, max_zoom=1.1)\n",
    "data = ImageClassifierData.from_paths(PATH, tfms=tfms, bs=bs, num_workers=4)\n",
    "learn = ConvLearner.pretrained(arch, data, precompute=True, ps=0.5)\n",
    "   \n"
   ]
  },
  {
   "cell_type": "code",
   "execution_count": 9,
   "metadata": {},
   "outputs": [
    {
     "data": {
      "application/vnd.jupyter.widget-view+json": {
       "model_id": "8d1b080d3fec437fbab7aed4b7cf6650",
       "version_major": 2,
       "version_minor": 0
      },
      "text/html": [
       "<p>Failed to display Jupyter Widget of type <code>HBox</code>.</p>\n",
       "<p>\n",
       "  If you're reading this message in the Jupyter Notebook or JupyterLab Notebook, it may mean\n",
       "  that the widgets JavaScript is still loading. If this message persists, it\n",
       "  likely means that the widgets JavaScript library is either not installed or\n",
       "  not enabled. See the <a href=\"https://ipywidgets.readthedocs.io/en/stable/user_install.html\">Jupyter\n",
       "  Widgets Documentation</a> for setup instructions.\n",
       "</p>\n",
       "<p>\n",
       "  If you're reading this message in another frontend (for example, a static\n",
       "  rendering on GitHub or <a href=\"https://nbviewer.jupyter.org/\">NBViewer</a>),\n",
       "  it may mean that your frontend doesn't currently support widgets.\n",
       "</p>\n"
      ],
      "text/plain": [
       "HBox(children=(IntProgress(value=0, description='Epoch', max=1), HTML(value='')))"
      ]
     },
     "metadata": {},
     "output_type": "display_data"
    },
    {
     "name": "stdout",
     "output_type": "stream",
     "text": [
      "epoch      trn_loss   val_loss   accuracy                     \n",
      "    0      0.927741   0.583716   0.802151  \n",
      "\n"
     ]
    }
   ],
   "source": [
    "learn.fit(1e-2, 1)\n",
    "learn.precompute=False"
   ]
  },
  {
   "cell_type": "code",
   "execution_count": 10,
   "metadata": {},
   "outputs": [
    {
     "data": {
      "application/vnd.jupyter.widget-view+json": {
       "model_id": "bcdbcd16db5a4a79ade2d39d39f7b016",
       "version_major": 2,
       "version_minor": 0
      },
      "text/html": [
       "<p>Failed to display Jupyter Widget of type <code>HBox</code>.</p>\n",
       "<p>\n",
       "  If you're reading this message in the Jupyter Notebook or JupyterLab Notebook, it may mean\n",
       "  that the widgets JavaScript is still loading. If this message persists, it\n",
       "  likely means that the widgets JavaScript library is either not installed or\n",
       "  not enabled. See the <a href=\"https://ipywidgets.readthedocs.io/en/stable/user_install.html\">Jupyter\n",
       "  Widgets Documentation</a> for setup instructions.\n",
       "</p>\n",
       "<p>\n",
       "  If you're reading this message in another frontend (for example, a static\n",
       "  rendering on GitHub or <a href=\"https://nbviewer.jupyter.org/\">NBViewer</a>),\n",
       "  it may mean that your frontend doesn't currently support widgets.\n",
       "</p>\n"
      ],
      "text/plain": [
       "HBox(children=(IntProgress(value=0, description='Epoch', max=2), HTML(value='')))"
      ]
     },
     "metadata": {},
     "output_type": "display_data"
    },
    {
     "name": "stdout",
     "output_type": "stream",
     "text": [
      "epoch      trn_loss   val_loss   accuracy                    \n",
      "    0      0.736835   0.484408   0.82957   \n",
      "    1      0.659902   0.44186    0.83871                     \n",
      "\n"
     ]
    },
    {
     "data": {
      "text/plain": [
       "[0.44186035, 0.8387096764579896]"
      ]
     },
     "execution_count": 10,
     "metadata": {},
     "output_type": "execute_result"
    }
   ],
   "source": [
    "learn.fit(1e-2, 2, cycle_len=1)"
   ]
  },
  {
   "cell_type": "code",
   "execution_count": 11,
   "metadata": {},
   "outputs": [
    {
     "data": {
      "application/vnd.jupyter.widget-view+json": {
       "model_id": "13823fefeefa4b699e1445b82af08cb4",
       "version_major": 2,
       "version_minor": 0
      },
      "text/html": [
       "<p>Failed to display Jupyter Widget of type <code>HBox</code>.</p>\n",
       "<p>\n",
       "  If you're reading this message in the Jupyter Notebook or JupyterLab Notebook, it may mean\n",
       "  that the widgets JavaScript is still loading. If this message persists, it\n",
       "  likely means that the widgets JavaScript library is either not installed or\n",
       "  not enabled. See the <a href=\"https://ipywidgets.readthedocs.io/en/stable/user_install.html\">Jupyter\n",
       "  Widgets Documentation</a> for setup instructions.\n",
       "</p>\n",
       "<p>\n",
       "  If you're reading this message in another frontend (for example, a static\n",
       "  rendering on GitHub or <a href=\"https://nbviewer.jupyter.org/\">NBViewer</a>),\n",
       "  it may mean that your frontend doesn't currently support widgets.\n",
       "</p>\n"
      ],
      "text/plain": [
       "HBox(children=(IntProgress(value=0, description='Epoch', max=3), HTML(value='')))"
      ]
     },
     "metadata": {},
     "output_type": "display_data"
    },
    {
     "name": "stdout",
     "output_type": "stream",
     "text": [
      "epoch      trn_loss   val_loss   accuracy                    \n",
      "    0      0.375861   0.209802   0.925806  \n",
      "    1      0.231192   0.143182   0.948387                    \n",
      "    2      0.192885   0.136518   0.953226                    \n",
      "\n"
     ]
    },
    {
     "data": {
      "text/plain": [
       "[0.13651757, 0.953225802990698]"
      ]
     },
     "execution_count": 11,
     "metadata": {},
     "output_type": "execute_result"
    }
   ],
   "source": [
    "learn.unfreeze()\n",
    "lr=np.array([1e-4,1e-3,1e-2])\n",
    "learn.fit(lr, 3, cycle_len=1)"
   ]
  },
  {
   "cell_type": "code",
   "execution_count": 13,
   "metadata": {},
   "outputs": [],
   "source": [
    "import glob\n",
    "valid_dir = os.path.join(PATH,'valid')\n",
    "train_dir = os.path.join(PATH,'train')\n",
    "for i in species:\n",
    "    sour = os.path.join(valid_dir,i)\n",
    "    dest = os.path.join(train_dir,i)\n",
    "    for pngfile in glob.iglob(os.path.join(sour,'*.png')):\n",
    "        shutil.copy(pngfile,dest)\n",
    "    \n"
   ]
  },
  {
   "cell_type": "code",
   "execution_count": 14,
   "metadata": {},
   "outputs": [
    {
     "name": "stdout",
     "output_type": "stream",
     "text": [
      "263 images of Black-grass\n",
      "390 images of Charlock\n",
      "287 images of Cleavers\n",
      "611 images of Common Chickweed\n",
      "221 images of Common wheat\n",
      "475 images of Fat Hen\n",
      "654 images of Loose Silky-bent\n",
      "221 images of Maize\n",
      "516 images of Scentless Mayweed\n",
      "231 images of Shepherds Purse\n",
      "496 images of Small-flowered Cranesbill\n",
      "385 images of Sugar beet\n"
     ]
    }
   ],
   "source": [
    "train_dir = os.path.join(PATH,'train')\n",
    "# different species in the data set\n",
    "species = ['Black-grass', 'Charlock', 'Cleavers', 'Common Chickweed', 'Common wheat',\n",
    "           'Fat Hen', 'Loose Silky-bent', 'Maize', 'Scentless Mayweed',\n",
    "           'Shepherds Purse', 'Small-flowered Cranesbill', 'Sugar beet']\n",
    "num_species = len(species)\n",
    "\n",
    "# print number of images of each species in the training data\n",
    "for sp in species:\n",
    "    print('{} images of {}'.format(len(os.listdir(os.path.join(train_dir, sp))),sp))"
   ]
  },
  {
   "cell_type": "code",
   "execution_count": 51,
   "metadata": {},
   "outputs": [
    {
     "name": "stdout",
     "output_type": "stream",
     "text": [
      "100%|██████████| 40/40 [00:10<00:00,  3.83it/s]\n"
     ]
    },
    {
     "data": {
      "application/vnd.jupyter.widget-view+json": {
       "model_id": "52e728be44b044fcbd7e079038f12979",
       "version_major": 2,
       "version_minor": 0
      },
      "text/html": [
       "<p>Failed to display Jupyter Widget of type <code>HBox</code>.</p>\n",
       "<p>\n",
       "  If you're reading this message in the Jupyter Notebook or JupyterLab Notebook, it may mean\n",
       "  that the widgets JavaScript is still loading. If this message persists, it\n",
       "  likely means that the widgets JavaScript library is either not installed or\n",
       "  not enabled. See the <a href=\"https://ipywidgets.readthedocs.io/en/stable/user_install.html\">Jupyter\n",
       "  Widgets Documentation</a> for setup instructions.\n",
       "</p>\n",
       "<p>\n",
       "  If you're reading this message in another frontend (for example, a static\n",
       "  rendering on GitHub or <a href=\"https://nbviewer.jupyter.org/\">NBViewer</a>),\n",
       "  it may mean that your frontend doesn't currently support widgets.\n",
       "</p>\n"
      ],
      "text/plain": [
       "HBox(children=(IntProgress(value=0, description='Epoch', max=1), HTML(value='')))"
      ]
     },
     "metadata": {},
     "output_type": "display_data"
    },
    {
     "name": "stdout",
     "output_type": "stream",
     "text": [
      "epoch      trn_loss   val_loss   accuracy                     \n",
      "    0      0.943073   0.450418   0.847849  \n",
      "\n"
     ]
    }
   ],
   "source": [
    "tfms = tfms_from_model(arch, sz, aug_tfms=transforms_side_on, max_zoom=1.1)\n",
    "data = ImageClassifierData.from_paths(PATH, tfms=tfms, bs=bs, trn_name = 'train',val_name= 'valid',test_name = 'test1')\n",
    "learn = ConvLearner.pretrained(arch, data, precompute=True, ps=0.5)\n",
    "learn.fit(1e-2, 1)\n",
    "learn.precompute=False\n",
    "   "
   ]
  },
  {
   "cell_type": "code",
   "execution_count": 53,
   "metadata": {},
   "outputs": [
    {
     "data": {
      "application/vnd.jupyter.widget-view+json": {
       "model_id": "da07d7b851fd48378c45000c50b92895",
       "version_major": 2,
       "version_minor": 0
      },
      "text/html": [
       "<p>Failed to display Jupyter Widget of type <code>HBox</code>.</p>\n",
       "<p>\n",
       "  If you're reading this message in the Jupyter Notebook or JupyterLab Notebook, it may mean\n",
       "  that the widgets JavaScript is still loading. If this message persists, it\n",
       "  likely means that the widgets JavaScript library is either not installed or\n",
       "  not enabled. See the <a href=\"https://ipywidgets.readthedocs.io/en/stable/user_install.html\">Jupyter\n",
       "  Widgets Documentation</a> for setup instructions.\n",
       "</p>\n",
       "<p>\n",
       "  If you're reading this message in another frontend (for example, a static\n",
       "  rendering on GitHub or <a href=\"https://nbviewer.jupyter.org/\">NBViewer</a>),\n",
       "  it may mean that your frontend doesn't currently support widgets.\n",
       "</p>\n"
      ],
      "text/plain": [
       "HBox(children=(IntProgress(value=0, description='Epoch', max=2), HTML(value='')))"
      ]
     },
     "metadata": {},
     "output_type": "display_data"
    },
    {
     "name": "stdout",
     "output_type": "stream",
     "text": [
      "epoch      trn_loss   val_loss   accuracy                    \n",
      "    0      0.633632   0.274062   0.893548  \n",
      "    1      0.577807   0.262398   0.909677                    \n",
      "\n"
     ]
    },
    {
     "data": {
      "text/plain": [
       "[0.26239836, 0.9096774151248317]"
      ]
     },
     "execution_count": 53,
     "metadata": {},
     "output_type": "execute_result"
    }
   ],
   "source": [
    "learn.fit(1e-2, 2, cycle_len=1)"
   ]
  },
  {
   "cell_type": "code",
   "execution_count": 54,
   "metadata": {},
   "outputs": [
    {
     "data": {
      "application/vnd.jupyter.widget-view+json": {
       "model_id": "498794b717fa4d10ae5224f3dc2696f8",
       "version_major": 2,
       "version_minor": 0
      },
      "text/html": [
       "<p>Failed to display Jupyter Widget of type <code>HBox</code>.</p>\n",
       "<p>\n",
       "  If you're reading this message in the Jupyter Notebook or JupyterLab Notebook, it may mean\n",
       "  that the widgets JavaScript is still loading. If this message persists, it\n",
       "  likely means that the widgets JavaScript library is either not installed or\n",
       "  not enabled. See the <a href=\"https://ipywidgets.readthedocs.io/en/stable/user_install.html\">Jupyter\n",
       "  Widgets Documentation</a> for setup instructions.\n",
       "</p>\n",
       "<p>\n",
       "  If you're reading this message in another frontend (for example, a static\n",
       "  rendering on GitHub or <a href=\"https://nbviewer.jupyter.org/\">NBViewer</a>),\n",
       "  it may mean that your frontend doesn't currently support widgets.\n",
       "</p>\n"
      ],
      "text/plain": [
       "HBox(children=(IntProgress(value=0, description='Epoch', max=3), HTML(value='')))"
      ]
     },
     "metadata": {},
     "output_type": "display_data"
    },
    {
     "name": "stdout",
     "output_type": "stream",
     "text": [
      "epoch      trn_loss   val_loss   accuracy                    \n",
      "    0      0.346395   0.129664   0.960215  \n",
      "    1      0.236522   0.096101   0.964516                    \n",
      "    2      0.165007   0.051529   0.985484                    \n",
      "\n"
     ]
    },
    {
     "data": {
      "text/plain": [
       "[0.051529367, 0.985483867506827]"
      ]
     },
     "execution_count": 54,
     "metadata": {},
     "output_type": "execute_result"
    }
   ],
   "source": [
    "learn.unfreeze()\n",
    "lr=np.array([1e-4,1e-3,1e-2])\n",
    "learn.fit(lr, 3, cycle_len=1)"
   ]
  },
  {
   "cell_type": "code",
   "execution_count": 55,
   "metadata": {},
   "outputs": [],
   "source": [
    "learn.save('224_all_50')"
   ]
  },
  {
   "cell_type": "code",
   "execution_count": 56,
   "metadata": {},
   "outputs": [],
   "source": [
    "learn.load('224_all_50')"
   ]
  },
  {
   "cell_type": "code",
   "execution_count": 57,
   "metadata": {},
   "outputs": [
    {
     "name": "stdout",
     "output_type": "stream",
     "text": [
      "                                             \r"
     ]
    }
   ],
   "source": [
    "log_preds,y = learn.TTA(is_test = True)\n",
    "probs = np.mean(np.exp(log_preds),0)\n",
    "\n"
   ]
  },
  {
   "cell_type": "code",
   "execution_count": 59,
   "metadata": {},
   "outputs": [
    {
     "data": {
      "text/plain": [
       "(794, 12)"
      ]
     },
     "execution_count": 59,
     "metadata": {},
     "output_type": "execute_result"
    }
   ],
   "source": [
    "probs.shape"
   ]
  },
  {
   "cell_type": "code",
   "execution_count": 63,
   "metadata": {},
   "outputs": [
    {
     "data": {
      "text/plain": [
       "array([ 3,  3,  8,  5,  5,  9,  3,  6,  1,  5,  7,  3,  9,  9,  3,  8,  6,  8, 10,  7,  5,  2, 11,  5, 10,\n",
       "        8,  9,  3, 10,  6,  8,  1,  9,  6,  6,  3,  2, 11,  4,  6, 10, 11,  6,  6,  5, 10,  5,  3,  4,  8,\n",
       "       10,  6,  5, 11, 10,  1, 11,  3,  2,  6,  3,  3, 10,  3,  3,  3,  7, 10,  3,  6,  6,  0, 10,  4,  6,\n",
       "        4,  7, 11,  8, 11,  5,  8,  9,  0, 10,  8,  5,  8,  0,  3, 10,  8,  5,  1,  7,  9,  3,  9,  0,  6,\n",
       "        3,  8,  4,  8,  6, 11,  0,  3,  5, 10,  5,  3,  5,  2,  6,  6,  0,  1, 11,  6, 11,  6,  3,  0,  5,\n",
       "        8,  9,  6,  1,  0,  3,  0,  8,  7,  1,  5,  8,  0, 10,  6,  7,  6,  1,  0,  6,  6,  4,  3,  8,  4,\n",
       "       11,  3, 11,  1,  2,  4,  8,  4,  1,  0,  8,  2,  0,  7,  5,  6,  3,  1, 11,  1, 10,  8,  6,  8, 10,\n",
       "        1,  9,  4,  2,  3,  2,  1,  3,  8, 10, 11,  3,  6,  6,  6,  5, 11,  3, 10,  0, 11,  8, 11, 11,  9,\n",
       "        6, 11,  5,  6,  2,  6, 10,  7,  3,  3,  6, 11,  6,  6,  7,  5,  8, 11,  3,  0,  3,  3, 10,  7,  1,\n",
       "        3,  8, 10, 11,  1,  3,  6, 10,  3,  6,  3, 11, 10,  8,  2, 11,  8, 10, 11,  7,  8,  8, 11, 10, 11,\n",
       "        4, 11,  6,  1,  1,  8,  8, 10,  3,  0,  8,  8,  6,  9,  8,  7,  2, 11,  9, 11,  2,  5,  8,  6,  6,\n",
       "        1, 11, 11,  6,  6,  0,  8,  5,  0,  1,  7,  8,  0,  8,  8, 11,  6,  5,  6,  2,  1,  3, 10,  0,  6,\n",
       "        6,  4, 10,  6,  0,  5, 10,  3,  4,  6,  8,  9,  6,  8, 11,  6,  6,  2, 11,  3, 10, 11,  0,  6, 10,\n",
       "        8,  8,  2,  0, 11,  9,  2,  8, 11,  1, 10, 10, 10, 11,  2,  7,  1,  9,  1, 11,  9, 11,  9,  5,  8,\n",
       "        7,  6,  6,  3,  3,  8, 10,  4,  6, 11,  6,  3,  1,  7,  3,  4,  6, 11,  2, 11,  1,  1,  8, 11, 11,\n",
       "        5, 10, 10,  6, 11,  8,  0,  8,  1,  3, 11,  2,  1,  7,  3, 11, 10,  8,  2, 10,  8,  3,  0,  7,  3,\n",
       "        2, 10, 10,  3,  8,  6,  6,  5, 11,  9,  6,  0,  7,  6,  1,  5,  6,  1,  8,  3,  6,  8,  6,  3, 10,\n",
       "        6,  6,  3, 10,  6,  6,  2,  9,  3,  5,  1,  3,  2,  8, 11,  9,  4,  6,  5, 10,  6,  6,  2,  1,  5,\n",
       "        3,  2,  2,  5,  2, 10,  5,  3,  4,  3,  6,  5,  6,  8,  6,  5,  6,  3,  7,  7,  6,  9,  0,  8,  0,\n",
       "        2,  9,  1, 10,  0,  4,  6,  3,  0,  8, 10,  5, 10,  6,  5, 11,  9, 10,  3,  3,  5,  5,  5,  6,  9,\n",
       "        5,  4,  1,  9,  0,  7,  5,  8,  3, 11, 11, 11,  7,  3,  7,  1, 10,  3,  1,  6, 11,  5,  6,  6,  4,\n",
       "        3,  3,  1,  8,  6,  6,  2,  7,  1,  1,  2,  3,  8,  3,  2,  3,  8,  5,  4,  3, 10,  3,  8,  3,  8,\n",
       "        6, 10,  9,  4,  2,  8,  6,  1,  5,  9,  3,  8, 10,  9,  5,  8,  3,  7,  2,  6,  6,  9,  5,  8, 11,\n",
       "        3,  1,  7,  1, 10,  9,  9,  1,  8, 11,  9, 10, 10, 10,  4,  6,  7,  9,  6,  6,  2, 11, 11,  2,  2,\n",
       "        3,  1,  5, 10, 11,  0,  8, 10, 11,  5,  6,  6,  6,  0,  1,  9,  6, 10,  8,  1, 11,  3, 11,  9,  8,\n",
       "        1,  0, 10, 11,  6,  6,  7,  6,  0,  4,  3,  6, 10,  6,  6,  3,  1,  8,  3,  6,  3,  3, 11,  0, 10,\n",
       "        8, 10,  3,  5,  5,  1,  3,  8, 11,  1,  4,  4,  8,  4,  5, 11, 11,  2, 10,  4,  8,  3,  1, 11,  8,\n",
       "        0,  2, 10,  4,  8,  6,  6,  1,  5,  4,  9,  0,  3,  6,  1,  1,  3,  5, 11, 11,  0,  5,  3, 10,  5,\n",
       "        1,  8,  3,  3,  7,  9, 10,  2, 10, 10,  5,  5, 10,  2,  5,  5, 11, 10,  4, 10,  6,  6, 11,  9,  5,\n",
       "       11,  0,  9,  3,  2,  1,  1,  2,  6,  8,  1, 10,  4,  1,  4, 11,  9, 10,  6,  3,  6,  8,  8,  7,  8,\n",
       "        6,  3,  2,  6,  5,  8, 11,  1,  6,  7, 10, 10,  7,  7, 10,  8,  3,  3,  3,  9,  5,  8,  8,  6,  2,\n",
       "        3,  3,  1,  3,  8,  3,  8,  6,  6, 10,  6, 11,  2, 10,  9,  2,  2,  7, 11])"
      ]
     },
     "execution_count": 63,
     "metadata": {},
     "output_type": "execute_result"
    }
   ],
   "source": [
    "ans = np.argmax(probs,axis = 1)\n",
    "ans"
   ]
  },
  {
   "cell_type": "code",
   "execution_count": 64,
   "metadata": {},
   "outputs": [],
   "source": [
    "species = ['Black-grass', 'Charlock', 'Cleavers', 'Common Chickweed', 'Common wheat',\n",
    "           'Fat Hen', 'Loose Silky-bent', 'Maize', 'Scentless Mayweed',\n",
    "           'Shepherds Purse', 'Small-flowered Cranesbill', 'Sugar beet']\n",
    "new_list = []\n",
    "for i in ans:\n",
    "    new_list.append(species[i])"
   ]
  },
  {
   "cell_type": "code",
   "execution_count": 65,
   "metadata": {},
   "outputs": [
    {
     "data": {
      "text/plain": [
       "['Common Chickweed',\n",
       " 'Common Chickweed',\n",
       " 'Scentless Mayweed',\n",
       " 'Fat Hen',\n",
       " 'Fat Hen',\n",
       " 'Shepherds Purse',\n",
       " 'Common Chickweed',\n",
       " 'Loose Silky-bent',\n",
       " 'Charlock',\n",
       " 'Fat Hen',\n",
       " 'Maize',\n",
       " 'Common Chickweed',\n",
       " 'Shepherds Purse',\n",
       " 'Shepherds Purse',\n",
       " 'Common Chickweed',\n",
       " 'Scentless Mayweed',\n",
       " 'Loose Silky-bent',\n",
       " 'Scentless Mayweed',\n",
       " 'Small-flowered Cranesbill',\n",
       " 'Maize',\n",
       " 'Fat Hen',\n",
       " 'Cleavers',\n",
       " 'Sugar beet',\n",
       " 'Fat Hen',\n",
       " 'Small-flowered Cranesbill',\n",
       " 'Scentless Mayweed',\n",
       " 'Shepherds Purse',\n",
       " 'Common Chickweed',\n",
       " 'Small-flowered Cranesbill',\n",
       " 'Loose Silky-bent',\n",
       " 'Scentless Mayweed',\n",
       " 'Charlock',\n",
       " 'Shepherds Purse',\n",
       " 'Loose Silky-bent',\n",
       " 'Loose Silky-bent',\n",
       " 'Common Chickweed',\n",
       " 'Cleavers',\n",
       " 'Sugar beet',\n",
       " 'Common wheat',\n",
       " 'Loose Silky-bent',\n",
       " 'Small-flowered Cranesbill',\n",
       " 'Sugar beet',\n",
       " 'Loose Silky-bent',\n",
       " 'Loose Silky-bent',\n",
       " 'Fat Hen',\n",
       " 'Small-flowered Cranesbill',\n",
       " 'Fat Hen',\n",
       " 'Common Chickweed',\n",
       " 'Common wheat',\n",
       " 'Scentless Mayweed',\n",
       " 'Small-flowered Cranesbill',\n",
       " 'Loose Silky-bent',\n",
       " 'Fat Hen',\n",
       " 'Sugar beet',\n",
       " 'Small-flowered Cranesbill',\n",
       " 'Charlock',\n",
       " 'Sugar beet',\n",
       " 'Common Chickweed',\n",
       " 'Cleavers',\n",
       " 'Loose Silky-bent',\n",
       " 'Common Chickweed',\n",
       " 'Common Chickweed',\n",
       " 'Small-flowered Cranesbill',\n",
       " 'Common Chickweed',\n",
       " 'Common Chickweed',\n",
       " 'Common Chickweed',\n",
       " 'Maize',\n",
       " 'Small-flowered Cranesbill',\n",
       " 'Common Chickweed',\n",
       " 'Loose Silky-bent',\n",
       " 'Loose Silky-bent',\n",
       " 'Black-grass',\n",
       " 'Small-flowered Cranesbill',\n",
       " 'Common wheat',\n",
       " 'Loose Silky-bent',\n",
       " 'Common wheat',\n",
       " 'Maize',\n",
       " 'Sugar beet',\n",
       " 'Scentless Mayweed',\n",
       " 'Sugar beet',\n",
       " 'Fat Hen',\n",
       " 'Scentless Mayweed',\n",
       " 'Shepherds Purse',\n",
       " 'Black-grass',\n",
       " 'Small-flowered Cranesbill',\n",
       " 'Scentless Mayweed',\n",
       " 'Fat Hen',\n",
       " 'Scentless Mayweed',\n",
       " 'Black-grass',\n",
       " 'Common Chickweed',\n",
       " 'Small-flowered Cranesbill',\n",
       " 'Scentless Mayweed',\n",
       " 'Fat Hen',\n",
       " 'Charlock',\n",
       " 'Maize',\n",
       " 'Shepherds Purse',\n",
       " 'Common Chickweed',\n",
       " 'Shepherds Purse',\n",
       " 'Black-grass',\n",
       " 'Loose Silky-bent',\n",
       " 'Common Chickweed',\n",
       " 'Scentless Mayweed',\n",
       " 'Common wheat',\n",
       " 'Scentless Mayweed',\n",
       " 'Loose Silky-bent',\n",
       " 'Sugar beet',\n",
       " 'Black-grass',\n",
       " 'Common Chickweed',\n",
       " 'Fat Hen',\n",
       " 'Small-flowered Cranesbill',\n",
       " 'Fat Hen',\n",
       " 'Common Chickweed',\n",
       " 'Fat Hen',\n",
       " 'Cleavers',\n",
       " 'Loose Silky-bent',\n",
       " 'Loose Silky-bent',\n",
       " 'Black-grass',\n",
       " 'Charlock',\n",
       " 'Sugar beet',\n",
       " 'Loose Silky-bent',\n",
       " 'Sugar beet',\n",
       " 'Loose Silky-bent',\n",
       " 'Common Chickweed',\n",
       " 'Black-grass',\n",
       " 'Fat Hen',\n",
       " 'Scentless Mayweed',\n",
       " 'Shepherds Purse',\n",
       " 'Loose Silky-bent',\n",
       " 'Charlock',\n",
       " 'Black-grass',\n",
       " 'Common Chickweed',\n",
       " 'Black-grass',\n",
       " 'Scentless Mayweed',\n",
       " 'Maize',\n",
       " 'Charlock',\n",
       " 'Fat Hen',\n",
       " 'Scentless Mayweed',\n",
       " 'Black-grass',\n",
       " 'Small-flowered Cranesbill',\n",
       " 'Loose Silky-bent',\n",
       " 'Maize',\n",
       " 'Loose Silky-bent',\n",
       " 'Charlock',\n",
       " 'Black-grass',\n",
       " 'Loose Silky-bent',\n",
       " 'Loose Silky-bent',\n",
       " 'Common wheat',\n",
       " 'Common Chickweed',\n",
       " 'Scentless Mayweed',\n",
       " 'Common wheat',\n",
       " 'Sugar beet',\n",
       " 'Common Chickweed',\n",
       " 'Sugar beet',\n",
       " 'Charlock',\n",
       " 'Cleavers',\n",
       " 'Common wheat',\n",
       " 'Scentless Mayweed',\n",
       " 'Common wheat',\n",
       " 'Charlock',\n",
       " 'Black-grass',\n",
       " 'Scentless Mayweed',\n",
       " 'Cleavers',\n",
       " 'Black-grass',\n",
       " 'Maize',\n",
       " 'Fat Hen',\n",
       " 'Loose Silky-bent',\n",
       " 'Common Chickweed',\n",
       " 'Charlock',\n",
       " 'Sugar beet',\n",
       " 'Charlock',\n",
       " 'Small-flowered Cranesbill',\n",
       " 'Scentless Mayweed',\n",
       " 'Loose Silky-bent',\n",
       " 'Scentless Mayweed',\n",
       " 'Small-flowered Cranesbill',\n",
       " 'Charlock',\n",
       " 'Shepherds Purse',\n",
       " 'Common wheat',\n",
       " 'Cleavers',\n",
       " 'Common Chickweed',\n",
       " 'Cleavers',\n",
       " 'Charlock',\n",
       " 'Common Chickweed',\n",
       " 'Scentless Mayweed',\n",
       " 'Small-flowered Cranesbill',\n",
       " 'Sugar beet',\n",
       " 'Common Chickweed',\n",
       " 'Loose Silky-bent',\n",
       " 'Loose Silky-bent',\n",
       " 'Loose Silky-bent',\n",
       " 'Fat Hen',\n",
       " 'Sugar beet',\n",
       " 'Common Chickweed',\n",
       " 'Small-flowered Cranesbill',\n",
       " 'Black-grass',\n",
       " 'Sugar beet',\n",
       " 'Scentless Mayweed',\n",
       " 'Sugar beet',\n",
       " 'Sugar beet',\n",
       " 'Shepherds Purse',\n",
       " 'Loose Silky-bent',\n",
       " 'Sugar beet',\n",
       " 'Fat Hen',\n",
       " 'Loose Silky-bent',\n",
       " 'Cleavers',\n",
       " 'Loose Silky-bent',\n",
       " 'Small-flowered Cranesbill',\n",
       " 'Maize',\n",
       " 'Common Chickweed',\n",
       " 'Common Chickweed',\n",
       " 'Loose Silky-bent',\n",
       " 'Sugar beet',\n",
       " 'Loose Silky-bent',\n",
       " 'Loose Silky-bent',\n",
       " 'Maize',\n",
       " 'Fat Hen',\n",
       " 'Scentless Mayweed',\n",
       " 'Sugar beet',\n",
       " 'Common Chickweed',\n",
       " 'Black-grass',\n",
       " 'Common Chickweed',\n",
       " 'Common Chickweed',\n",
       " 'Small-flowered Cranesbill',\n",
       " 'Maize',\n",
       " 'Charlock',\n",
       " 'Common Chickweed',\n",
       " 'Scentless Mayweed',\n",
       " 'Small-flowered Cranesbill',\n",
       " 'Sugar beet',\n",
       " 'Charlock',\n",
       " 'Common Chickweed',\n",
       " 'Loose Silky-bent',\n",
       " 'Small-flowered Cranesbill',\n",
       " 'Common Chickweed',\n",
       " 'Loose Silky-bent',\n",
       " 'Common Chickweed',\n",
       " 'Sugar beet',\n",
       " 'Small-flowered Cranesbill',\n",
       " 'Scentless Mayweed',\n",
       " 'Cleavers',\n",
       " 'Sugar beet',\n",
       " 'Scentless Mayweed',\n",
       " 'Small-flowered Cranesbill',\n",
       " 'Sugar beet',\n",
       " 'Maize',\n",
       " 'Scentless Mayweed',\n",
       " 'Scentless Mayweed',\n",
       " 'Sugar beet',\n",
       " 'Small-flowered Cranesbill',\n",
       " 'Sugar beet',\n",
       " 'Common wheat',\n",
       " 'Sugar beet',\n",
       " 'Loose Silky-bent',\n",
       " 'Charlock',\n",
       " 'Charlock',\n",
       " 'Scentless Mayweed',\n",
       " 'Scentless Mayweed',\n",
       " 'Small-flowered Cranesbill',\n",
       " 'Common Chickweed',\n",
       " 'Black-grass',\n",
       " 'Scentless Mayweed',\n",
       " 'Scentless Mayweed',\n",
       " 'Loose Silky-bent',\n",
       " 'Shepherds Purse',\n",
       " 'Scentless Mayweed',\n",
       " 'Maize',\n",
       " 'Cleavers',\n",
       " 'Sugar beet',\n",
       " 'Shepherds Purse',\n",
       " 'Sugar beet',\n",
       " 'Cleavers',\n",
       " 'Fat Hen',\n",
       " 'Scentless Mayweed',\n",
       " 'Loose Silky-bent',\n",
       " 'Loose Silky-bent',\n",
       " 'Charlock',\n",
       " 'Sugar beet',\n",
       " 'Sugar beet',\n",
       " 'Loose Silky-bent',\n",
       " 'Loose Silky-bent',\n",
       " 'Black-grass',\n",
       " 'Scentless Mayweed',\n",
       " 'Fat Hen',\n",
       " 'Black-grass',\n",
       " 'Charlock',\n",
       " 'Maize',\n",
       " 'Scentless Mayweed',\n",
       " 'Black-grass',\n",
       " 'Scentless Mayweed',\n",
       " 'Scentless Mayweed',\n",
       " 'Sugar beet',\n",
       " 'Loose Silky-bent',\n",
       " 'Fat Hen',\n",
       " 'Loose Silky-bent',\n",
       " 'Cleavers',\n",
       " 'Charlock',\n",
       " 'Common Chickweed',\n",
       " 'Small-flowered Cranesbill',\n",
       " 'Black-grass',\n",
       " 'Loose Silky-bent',\n",
       " 'Loose Silky-bent',\n",
       " 'Common wheat',\n",
       " 'Small-flowered Cranesbill',\n",
       " 'Loose Silky-bent',\n",
       " 'Black-grass',\n",
       " 'Fat Hen',\n",
       " 'Small-flowered Cranesbill',\n",
       " 'Common Chickweed',\n",
       " 'Common wheat',\n",
       " 'Loose Silky-bent',\n",
       " 'Scentless Mayweed',\n",
       " 'Shepherds Purse',\n",
       " 'Loose Silky-bent',\n",
       " 'Scentless Mayweed',\n",
       " 'Sugar beet',\n",
       " 'Loose Silky-bent',\n",
       " 'Loose Silky-bent',\n",
       " 'Cleavers',\n",
       " 'Sugar beet',\n",
       " 'Common Chickweed',\n",
       " 'Small-flowered Cranesbill',\n",
       " 'Sugar beet',\n",
       " 'Black-grass',\n",
       " 'Loose Silky-bent',\n",
       " 'Small-flowered Cranesbill',\n",
       " 'Scentless Mayweed',\n",
       " 'Scentless Mayweed',\n",
       " 'Cleavers',\n",
       " 'Black-grass',\n",
       " 'Sugar beet',\n",
       " 'Shepherds Purse',\n",
       " 'Cleavers',\n",
       " 'Scentless Mayweed',\n",
       " 'Sugar beet',\n",
       " 'Charlock',\n",
       " 'Small-flowered Cranesbill',\n",
       " 'Small-flowered Cranesbill',\n",
       " 'Small-flowered Cranesbill',\n",
       " 'Sugar beet',\n",
       " 'Cleavers',\n",
       " 'Maize',\n",
       " 'Charlock',\n",
       " 'Shepherds Purse',\n",
       " 'Charlock',\n",
       " 'Sugar beet',\n",
       " 'Shepherds Purse',\n",
       " 'Sugar beet',\n",
       " 'Shepherds Purse',\n",
       " 'Fat Hen',\n",
       " 'Scentless Mayweed',\n",
       " 'Maize',\n",
       " 'Loose Silky-bent',\n",
       " 'Loose Silky-bent',\n",
       " 'Common Chickweed',\n",
       " 'Common Chickweed',\n",
       " 'Scentless Mayweed',\n",
       " 'Small-flowered Cranesbill',\n",
       " 'Common wheat',\n",
       " 'Loose Silky-bent',\n",
       " 'Sugar beet',\n",
       " 'Loose Silky-bent',\n",
       " 'Common Chickweed',\n",
       " 'Charlock',\n",
       " 'Maize',\n",
       " 'Common Chickweed',\n",
       " 'Common wheat',\n",
       " 'Loose Silky-bent',\n",
       " 'Sugar beet',\n",
       " 'Cleavers',\n",
       " 'Sugar beet',\n",
       " 'Charlock',\n",
       " 'Charlock',\n",
       " 'Scentless Mayweed',\n",
       " 'Sugar beet',\n",
       " 'Sugar beet',\n",
       " 'Fat Hen',\n",
       " 'Small-flowered Cranesbill',\n",
       " 'Small-flowered Cranesbill',\n",
       " 'Loose Silky-bent',\n",
       " 'Sugar beet',\n",
       " 'Scentless Mayweed',\n",
       " 'Black-grass',\n",
       " 'Scentless Mayweed',\n",
       " 'Charlock',\n",
       " 'Common Chickweed',\n",
       " 'Sugar beet',\n",
       " 'Cleavers',\n",
       " 'Charlock',\n",
       " 'Maize',\n",
       " 'Common Chickweed',\n",
       " 'Sugar beet',\n",
       " 'Small-flowered Cranesbill',\n",
       " 'Scentless Mayweed',\n",
       " 'Cleavers',\n",
       " 'Small-flowered Cranesbill',\n",
       " 'Scentless Mayweed',\n",
       " 'Common Chickweed',\n",
       " 'Black-grass',\n",
       " 'Maize',\n",
       " 'Common Chickweed',\n",
       " 'Cleavers',\n",
       " 'Small-flowered Cranesbill',\n",
       " 'Small-flowered Cranesbill',\n",
       " 'Common Chickweed',\n",
       " 'Scentless Mayweed',\n",
       " 'Loose Silky-bent',\n",
       " 'Loose Silky-bent',\n",
       " 'Fat Hen',\n",
       " 'Sugar beet',\n",
       " 'Shepherds Purse',\n",
       " 'Loose Silky-bent',\n",
       " 'Black-grass',\n",
       " 'Maize',\n",
       " 'Loose Silky-bent',\n",
       " 'Charlock',\n",
       " 'Fat Hen',\n",
       " 'Loose Silky-bent',\n",
       " 'Charlock',\n",
       " 'Scentless Mayweed',\n",
       " 'Common Chickweed',\n",
       " 'Loose Silky-bent',\n",
       " 'Scentless Mayweed',\n",
       " 'Loose Silky-bent',\n",
       " 'Common Chickweed',\n",
       " 'Small-flowered Cranesbill',\n",
       " 'Loose Silky-bent',\n",
       " 'Loose Silky-bent',\n",
       " 'Common Chickweed',\n",
       " 'Small-flowered Cranesbill',\n",
       " 'Loose Silky-bent',\n",
       " 'Loose Silky-bent',\n",
       " 'Cleavers',\n",
       " 'Shepherds Purse',\n",
       " 'Common Chickweed',\n",
       " 'Fat Hen',\n",
       " 'Charlock',\n",
       " 'Common Chickweed',\n",
       " 'Cleavers',\n",
       " 'Scentless Mayweed',\n",
       " 'Sugar beet',\n",
       " 'Shepherds Purse',\n",
       " 'Common wheat',\n",
       " 'Loose Silky-bent',\n",
       " 'Fat Hen',\n",
       " 'Small-flowered Cranesbill',\n",
       " 'Loose Silky-bent',\n",
       " 'Loose Silky-bent',\n",
       " 'Cleavers',\n",
       " 'Charlock',\n",
       " 'Fat Hen',\n",
       " 'Common Chickweed',\n",
       " 'Cleavers',\n",
       " 'Cleavers',\n",
       " 'Fat Hen',\n",
       " 'Cleavers',\n",
       " 'Small-flowered Cranesbill',\n",
       " 'Fat Hen',\n",
       " 'Common Chickweed',\n",
       " 'Common wheat',\n",
       " 'Common Chickweed',\n",
       " 'Loose Silky-bent',\n",
       " 'Fat Hen',\n",
       " 'Loose Silky-bent',\n",
       " 'Scentless Mayweed',\n",
       " 'Loose Silky-bent',\n",
       " 'Fat Hen',\n",
       " 'Loose Silky-bent',\n",
       " 'Common Chickweed',\n",
       " 'Maize',\n",
       " 'Maize',\n",
       " 'Loose Silky-bent',\n",
       " 'Shepherds Purse',\n",
       " 'Black-grass',\n",
       " 'Scentless Mayweed',\n",
       " 'Black-grass',\n",
       " 'Cleavers',\n",
       " 'Shepherds Purse',\n",
       " 'Charlock',\n",
       " 'Small-flowered Cranesbill',\n",
       " 'Black-grass',\n",
       " 'Common wheat',\n",
       " 'Loose Silky-bent',\n",
       " 'Common Chickweed',\n",
       " 'Black-grass',\n",
       " 'Scentless Mayweed',\n",
       " 'Small-flowered Cranesbill',\n",
       " 'Fat Hen',\n",
       " 'Small-flowered Cranesbill',\n",
       " 'Loose Silky-bent',\n",
       " 'Fat Hen',\n",
       " 'Sugar beet',\n",
       " 'Shepherds Purse',\n",
       " 'Small-flowered Cranesbill',\n",
       " 'Common Chickweed',\n",
       " 'Common Chickweed',\n",
       " 'Fat Hen',\n",
       " 'Fat Hen',\n",
       " 'Fat Hen',\n",
       " 'Loose Silky-bent',\n",
       " 'Shepherds Purse',\n",
       " 'Fat Hen',\n",
       " 'Common wheat',\n",
       " 'Charlock',\n",
       " 'Shepherds Purse',\n",
       " 'Black-grass',\n",
       " 'Maize',\n",
       " 'Fat Hen',\n",
       " 'Scentless Mayweed',\n",
       " 'Common Chickweed',\n",
       " 'Sugar beet',\n",
       " 'Sugar beet',\n",
       " 'Sugar beet',\n",
       " 'Maize',\n",
       " 'Common Chickweed',\n",
       " 'Maize',\n",
       " 'Charlock',\n",
       " 'Small-flowered Cranesbill',\n",
       " 'Common Chickweed',\n",
       " 'Charlock',\n",
       " 'Loose Silky-bent',\n",
       " 'Sugar beet',\n",
       " 'Fat Hen',\n",
       " 'Loose Silky-bent',\n",
       " 'Loose Silky-bent',\n",
       " 'Common wheat',\n",
       " 'Common Chickweed',\n",
       " 'Common Chickweed',\n",
       " 'Charlock',\n",
       " 'Scentless Mayweed',\n",
       " 'Loose Silky-bent',\n",
       " 'Loose Silky-bent',\n",
       " 'Cleavers',\n",
       " 'Maize',\n",
       " 'Charlock',\n",
       " 'Charlock',\n",
       " 'Cleavers',\n",
       " 'Common Chickweed',\n",
       " 'Scentless Mayweed',\n",
       " 'Common Chickweed',\n",
       " 'Cleavers',\n",
       " 'Common Chickweed',\n",
       " 'Scentless Mayweed',\n",
       " 'Fat Hen',\n",
       " 'Common wheat',\n",
       " 'Common Chickweed',\n",
       " 'Small-flowered Cranesbill',\n",
       " 'Common Chickweed',\n",
       " 'Scentless Mayweed',\n",
       " 'Common Chickweed',\n",
       " 'Scentless Mayweed',\n",
       " 'Loose Silky-bent',\n",
       " 'Small-flowered Cranesbill',\n",
       " 'Shepherds Purse',\n",
       " 'Common wheat',\n",
       " 'Cleavers',\n",
       " 'Scentless Mayweed',\n",
       " 'Loose Silky-bent',\n",
       " 'Charlock',\n",
       " 'Fat Hen',\n",
       " 'Shepherds Purse',\n",
       " 'Common Chickweed',\n",
       " 'Scentless Mayweed',\n",
       " 'Small-flowered Cranesbill',\n",
       " 'Shepherds Purse',\n",
       " 'Fat Hen',\n",
       " 'Scentless Mayweed',\n",
       " 'Common Chickweed',\n",
       " 'Maize',\n",
       " 'Cleavers',\n",
       " 'Loose Silky-bent',\n",
       " 'Loose Silky-bent',\n",
       " 'Shepherds Purse',\n",
       " 'Fat Hen',\n",
       " 'Scentless Mayweed',\n",
       " 'Sugar beet',\n",
       " 'Common Chickweed',\n",
       " 'Charlock',\n",
       " 'Maize',\n",
       " 'Charlock',\n",
       " 'Small-flowered Cranesbill',\n",
       " 'Shepherds Purse',\n",
       " 'Shepherds Purse',\n",
       " 'Charlock',\n",
       " 'Scentless Mayweed',\n",
       " 'Sugar beet',\n",
       " 'Shepherds Purse',\n",
       " 'Small-flowered Cranesbill',\n",
       " 'Small-flowered Cranesbill',\n",
       " 'Small-flowered Cranesbill',\n",
       " 'Common wheat',\n",
       " 'Loose Silky-bent',\n",
       " 'Maize',\n",
       " 'Shepherds Purse',\n",
       " 'Loose Silky-bent',\n",
       " 'Loose Silky-bent',\n",
       " 'Cleavers',\n",
       " 'Sugar beet',\n",
       " 'Sugar beet',\n",
       " 'Cleavers',\n",
       " 'Cleavers',\n",
       " 'Common Chickweed',\n",
       " 'Charlock',\n",
       " 'Fat Hen',\n",
       " 'Small-flowered Cranesbill',\n",
       " 'Sugar beet',\n",
       " 'Black-grass',\n",
       " 'Scentless Mayweed',\n",
       " 'Small-flowered Cranesbill',\n",
       " 'Sugar beet',\n",
       " 'Fat Hen',\n",
       " 'Loose Silky-bent',\n",
       " 'Loose Silky-bent',\n",
       " 'Loose Silky-bent',\n",
       " 'Black-grass',\n",
       " 'Charlock',\n",
       " 'Shepherds Purse',\n",
       " 'Loose Silky-bent',\n",
       " 'Small-flowered Cranesbill',\n",
       " 'Scentless Mayweed',\n",
       " 'Charlock',\n",
       " 'Sugar beet',\n",
       " 'Common Chickweed',\n",
       " 'Sugar beet',\n",
       " 'Shepherds Purse',\n",
       " 'Scentless Mayweed',\n",
       " 'Charlock',\n",
       " 'Black-grass',\n",
       " 'Small-flowered Cranesbill',\n",
       " 'Sugar beet',\n",
       " 'Loose Silky-bent',\n",
       " 'Loose Silky-bent',\n",
       " 'Maize',\n",
       " 'Loose Silky-bent',\n",
       " 'Black-grass',\n",
       " 'Common wheat',\n",
       " 'Common Chickweed',\n",
       " 'Loose Silky-bent',\n",
       " 'Small-flowered Cranesbill',\n",
       " 'Loose Silky-bent',\n",
       " 'Loose Silky-bent',\n",
       " 'Common Chickweed',\n",
       " 'Charlock',\n",
       " 'Scentless Mayweed',\n",
       " 'Common Chickweed',\n",
       " 'Loose Silky-bent',\n",
       " 'Common Chickweed',\n",
       " 'Common Chickweed',\n",
       " 'Sugar beet',\n",
       " 'Black-grass',\n",
       " 'Small-flowered Cranesbill',\n",
       " 'Scentless Mayweed',\n",
       " 'Small-flowered Cranesbill',\n",
       " 'Common Chickweed',\n",
       " 'Fat Hen',\n",
       " 'Fat Hen',\n",
       " 'Charlock',\n",
       " 'Common Chickweed',\n",
       " 'Scentless Mayweed',\n",
       " 'Sugar beet',\n",
       " 'Charlock',\n",
       " 'Common wheat',\n",
       " 'Common wheat',\n",
       " 'Scentless Mayweed',\n",
       " 'Common wheat',\n",
       " 'Fat Hen',\n",
       " 'Sugar beet',\n",
       " 'Sugar beet',\n",
       " 'Cleavers',\n",
       " 'Small-flowered Cranesbill',\n",
       " 'Common wheat',\n",
       " 'Scentless Mayweed',\n",
       " 'Common Chickweed',\n",
       " 'Charlock',\n",
       " 'Sugar beet',\n",
       " 'Scentless Mayweed',\n",
       " 'Black-grass',\n",
       " 'Cleavers',\n",
       " 'Small-flowered Cranesbill',\n",
       " 'Common wheat',\n",
       " 'Scentless Mayweed',\n",
       " 'Loose Silky-bent',\n",
       " 'Loose Silky-bent',\n",
       " 'Charlock',\n",
       " 'Fat Hen',\n",
       " 'Common wheat',\n",
       " 'Shepherds Purse',\n",
       " 'Black-grass',\n",
       " 'Common Chickweed',\n",
       " 'Loose Silky-bent',\n",
       " 'Charlock',\n",
       " 'Charlock',\n",
       " 'Common Chickweed',\n",
       " 'Fat Hen',\n",
       " 'Sugar beet',\n",
       " 'Sugar beet',\n",
       " 'Black-grass',\n",
       " 'Fat Hen',\n",
       " 'Common Chickweed',\n",
       " 'Small-flowered Cranesbill',\n",
       " 'Fat Hen',\n",
       " 'Charlock',\n",
       " 'Scentless Mayweed',\n",
       " 'Common Chickweed',\n",
       " 'Common Chickweed',\n",
       " 'Maize',\n",
       " 'Shepherds Purse',\n",
       " 'Small-flowered Cranesbill',\n",
       " 'Cleavers',\n",
       " 'Small-flowered Cranesbill',\n",
       " 'Small-flowered Cranesbill',\n",
       " 'Fat Hen',\n",
       " 'Fat Hen',\n",
       " 'Small-flowered Cranesbill',\n",
       " 'Cleavers',\n",
       " 'Fat Hen',\n",
       " 'Fat Hen',\n",
       " 'Sugar beet',\n",
       " 'Small-flowered Cranesbill',\n",
       " 'Common wheat',\n",
       " 'Small-flowered Cranesbill',\n",
       " 'Loose Silky-bent',\n",
       " 'Loose Silky-bent',\n",
       " 'Sugar beet',\n",
       " 'Shepherds Purse',\n",
       " 'Fat Hen',\n",
       " 'Sugar beet',\n",
       " 'Black-grass',\n",
       " 'Shepherds Purse',\n",
       " 'Common Chickweed',\n",
       " 'Cleavers',\n",
       " 'Charlock',\n",
       " 'Charlock',\n",
       " 'Cleavers',\n",
       " 'Loose Silky-bent',\n",
       " 'Scentless Mayweed',\n",
       " 'Charlock',\n",
       " 'Small-flowered Cranesbill',\n",
       " 'Common wheat',\n",
       " 'Charlock',\n",
       " 'Common wheat',\n",
       " 'Sugar beet',\n",
       " 'Shepherds Purse',\n",
       " 'Small-flowered Cranesbill',\n",
       " 'Loose Silky-bent',\n",
       " 'Common Chickweed',\n",
       " 'Loose Silky-bent',\n",
       " 'Scentless Mayweed',\n",
       " 'Scentless Mayweed',\n",
       " 'Maize',\n",
       " 'Scentless Mayweed',\n",
       " 'Loose Silky-bent',\n",
       " 'Common Chickweed',\n",
       " 'Cleavers',\n",
       " 'Loose Silky-bent',\n",
       " 'Fat Hen',\n",
       " 'Scentless Mayweed',\n",
       " 'Sugar beet',\n",
       " 'Charlock',\n",
       " 'Loose Silky-bent',\n",
       " 'Maize',\n",
       " 'Small-flowered Cranesbill',\n",
       " 'Small-flowered Cranesbill',\n",
       " 'Maize',\n",
       " 'Maize',\n",
       " 'Small-flowered Cranesbill',\n",
       " 'Scentless Mayweed',\n",
       " 'Common Chickweed',\n",
       " 'Common Chickweed',\n",
       " 'Common Chickweed',\n",
       " 'Shepherds Purse',\n",
       " 'Fat Hen',\n",
       " 'Scentless Mayweed',\n",
       " 'Scentless Mayweed',\n",
       " 'Loose Silky-bent',\n",
       " 'Cleavers',\n",
       " 'Common Chickweed',\n",
       " 'Common Chickweed',\n",
       " 'Charlock',\n",
       " 'Common Chickweed',\n",
       " 'Scentless Mayweed',\n",
       " 'Common Chickweed',\n",
       " 'Scentless Mayweed',\n",
       " 'Loose Silky-bent',\n",
       " 'Loose Silky-bent',\n",
       " 'Small-flowered Cranesbill',\n",
       " 'Loose Silky-bent',\n",
       " 'Sugar beet',\n",
       " 'Cleavers',\n",
       " 'Small-flowered Cranesbill',\n",
       " 'Shepherds Purse',\n",
       " 'Cleavers',\n",
       " 'Cleavers',\n",
       " 'Maize',\n",
       " 'Sugar beet']"
      ]
     },
     "execution_count": 65,
     "metadata": {},
     "output_type": "execute_result"
    }
   ],
   "source": [
    "new_list"
   ]
  },
  {
   "cell_type": "code",
   "execution_count": 67,
   "metadata": {},
   "outputs": [],
   "source": [
    "subm['species'] = new_list"
   ]
  },
  {
   "cell_type": "code",
   "execution_count": 68,
   "metadata": {},
   "outputs": [
    {
     "data": {
      "text/plain": [
       "0               Common Chickweed\n",
       "1               Common Chickweed\n",
       "2              Scentless Mayweed\n",
       "3                        Fat Hen\n",
       "4                        Fat Hen\n",
       "5                Shepherds Purse\n",
       "6               Common Chickweed\n",
       "7               Loose Silky-bent\n",
       "8                       Charlock\n",
       "9                        Fat Hen\n",
       "10                         Maize\n",
       "11              Common Chickweed\n",
       "12               Shepherds Purse\n",
       "13               Shepherds Purse\n",
       "14              Common Chickweed\n",
       "15             Scentless Mayweed\n",
       "16              Loose Silky-bent\n",
       "17             Scentless Mayweed\n",
       "18     Small-flowered Cranesbill\n",
       "19                         Maize\n",
       "20                       Fat Hen\n",
       "21                      Cleavers\n",
       "22                    Sugar beet\n",
       "23                       Fat Hen\n",
       "24     Small-flowered Cranesbill\n",
       "25             Scentless Mayweed\n",
       "26               Shepherds Purse\n",
       "27              Common Chickweed\n",
       "28     Small-flowered Cranesbill\n",
       "29              Loose Silky-bent\n",
       "                 ...            \n",
       "764    Small-flowered Cranesbill\n",
       "765            Scentless Mayweed\n",
       "766             Common Chickweed\n",
       "767             Common Chickweed\n",
       "768             Common Chickweed\n",
       "769              Shepherds Purse\n",
       "770                      Fat Hen\n",
       "771            Scentless Mayweed\n",
       "772            Scentless Mayweed\n",
       "773             Loose Silky-bent\n",
       "774                     Cleavers\n",
       "775             Common Chickweed\n",
       "776             Common Chickweed\n",
       "777                     Charlock\n",
       "778             Common Chickweed\n",
       "779            Scentless Mayweed\n",
       "780             Common Chickweed\n",
       "781            Scentless Mayweed\n",
       "782             Loose Silky-bent\n",
       "783             Loose Silky-bent\n",
       "784    Small-flowered Cranesbill\n",
       "785             Loose Silky-bent\n",
       "786                   Sugar beet\n",
       "787                     Cleavers\n",
       "788    Small-flowered Cranesbill\n",
       "789              Shepherds Purse\n",
       "790                     Cleavers\n",
       "791                     Cleavers\n",
       "792                        Maize\n",
       "793                   Sugar beet\n",
       "Name: species, Length: 794, dtype: object"
      ]
     },
     "execution_count": 68,
     "metadata": {},
     "output_type": "execute_result"
    }
   ],
   "source": [
    "subm['species']"
   ]
  },
  {
   "cell_type": "code",
   "execution_count": 69,
   "metadata": {},
   "outputs": [],
   "source": [
    "SUBM = f'{PATH}subm/'\n",
    "os.makedirs(SUBM,exist_ok=True)\n",
    "subm.to_csv(f'{SUBM}subm.gz',compression = 'gzip',index = False)"
   ]
  },
  {
   "cell_type": "code",
   "execution_count": null,
   "metadata": {},
   "outputs": [],
   "source": []
  }
 ],
 "metadata": {
  "kernelspec": {
   "display_name": "Python 3",
   "language": "python",
   "name": "python3"
  },
  "language_info": {
   "codemirror_mode": {
    "name": "ipython",
    "version": 3
   },
   "file_extension": ".py",
   "mimetype": "text/x-python",
   "name": "python",
   "nbconvert_exporter": "python",
   "pygments_lexer": "ipython3",
   "version": "3.6.4"
  }
 },
 "nbformat": 4,
 "nbformat_minor": 2
}
